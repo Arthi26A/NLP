{
  "nbformat": 4,
  "nbformat_minor": 0,
  "metadata": {
    "colab": {
      "provenance": [],
      "authorship_tag": "ABX9TyMBHrjqQDqi3RR1F5mWFBkJ",
      "include_colab_link": true
    },
    "kernelspec": {
      "name": "python3",
      "display_name": "Python 3"
    },
    "language_info": {
      "name": "python"
    }
  },
  "cells": [
    {
      "cell_type": "markdown",
      "metadata": {
        "id": "view-in-github",
        "colab_type": "text"
      },
      "source": [
        "<a href=\"https://colab.research.google.com/github/Arthi26A/NLP/blob/main/D_Arthi.ipynb\" target=\"_parent\"><img src=\"https://colab.research.google.com/assets/colab-badge.svg\" alt=\"Open In Colab\"/></a>"
      ]
    },
    {
      "cell_type": "code",
      "source": [
        "from google.colab import drive\n",
        "drive.mount('/content/drive')"
      ],
      "metadata": {
        "colab": {
          "base_uri": "https://localhost:8080/"
        },
        "id": "BucptjVbKMuS",
        "outputId": "9aa0ea86-6090-40db-9553-fe165f4cb646"
      },
      "execution_count": 10,
      "outputs": [
        {
          "output_type": "stream",
          "name": "stdout",
          "text": [
            "Mounted at /content/drive\n"
          ]
        }
      ]
    },
    {
      "cell_type": "code",
      "source": [
        "import os\n",
        "file_list = os.listdir('/content/drive/MyDrive/')\n",
        "print(file_list)"
      ],
      "metadata": {
        "colab": {
          "base_uri": "https://localhost:8080/"
        },
        "id": "6v9BT2WELPNe",
        "outputId": "6216a2f6-54e0-4711-d686-2026ac5babbe"
      },
      "execution_count": 11,
      "outputs": [
        {
          "output_type": "stream",
          "name": "stdout",
          "text": [
            "['💖𝐅𝐚𝐯𝐨💯', 'IT FORM 2019-20 CPS S.SAMUEL SELVARAJ B.SC,M.A.,B.ED., SCIENCE BT, COIMBATORE-38  DOWNLOAD.xls', 'Chemistry ', 'CHEMISTRY  (1)', 'CHEMISTRY ', 'AADHAR (1).pdf', 'cowin certificate .pdf', 'Manual', 'Classroom', 'Nptel certificate ', 'ARTHI.D-1.pdf', 'Colab Notebooks', 'iris Flower classification.ipynb', 'MOVIE REVIEW.ipynb', 'Fake.csv', 'True.csv']\n"
          ]
        }
      ]
    },
    {
      "cell_type": "code",
      "source": [
        "import pandas as pd\n",
        "\n",
        "True_df_path = \"/content/drive/MyDrive/True.csv\"\n",
        "Fake_df_path = \"/content/drive/MyDrive/Fake.csv\"\n",
        "\n",
        "# Load dataframes\n",
        "True_df = pd.read_csv(True_df_path)\n",
        "Fake_df = pd.read_csv(Fake_df_path)\n",
        "def label_data(df, label):\n",
        "    df['label'] = label\n",
        "    return df\n",
        "\n",
        "# Label the fake and true DataFrames\n",
        "Fake_df = label_data(Fake_df, 0)  # 0 represents fake data\n",
        "True_df = label_data(True_df, 1)  # 1 represents true data\n",
        "\n",
        "# Print the labeled DataFrames\n",
        "print(Fake_df.head())\n",
        "print(True_df.head())"
      ],
      "metadata": {
        "colab": {
          "base_uri": "https://localhost:8080/"
        },
        "id": "kAeUmZ99MlPZ",
        "outputId": "d801c6c8-0fa6-46e6-ec22-33c36ab5b713"
      },
      "execution_count": 24,
      "outputs": [
        {
          "output_type": "stream",
          "name": "stdout",
          "text": [
            "                                               title  \\\n",
            "0   Donald Trump Sends Out Embarrassing New Year’...   \n",
            "1   Drunk Bragging Trump Staffer Started Russian ...   \n",
            "2   Sheriff David Clarke Becomes An Internet Joke...   \n",
            "3   Trump Is So Obsessed He Even Has Obama’s Name...   \n",
            "4   Pope Francis Just Called Out Donald Trump Dur...   \n",
            "\n",
            "                                                text subject  \\\n",
            "0  Donald Trump just couldn t wish all Americans ...    News   \n",
            "1  House Intelligence Committee Chairman Devin Nu...    News   \n",
            "2  On Friday, it was revealed that former Milwauk...    News   \n",
            "3  On Christmas day, Donald Trump announced that ...    News   \n",
            "4  Pope Francis used his annual Christmas Day mes...    News   \n",
            "\n",
            "                date  label  \n",
            "0  December 31, 2017      0  \n",
            "1  December 31, 2017      0  \n",
            "2  December 30, 2017      0  \n",
            "3  December 29, 2017      0  \n",
            "4  December 25, 2017      0  \n",
            "                                               title  \\\n",
            "0  As U.S. budget fight looms, Republicans flip t...   \n",
            "1  U.S. military to accept transgender recruits o...   \n",
            "2  Senior U.S. Republican senator: 'Let Mr. Muell...   \n",
            "3  FBI Russia probe helped by Australian diplomat...   \n",
            "4  Trump wants Postal Service to charge 'much mor...   \n",
            "\n",
            "                                                text       subject  \\\n",
            "0  WASHINGTON (Reuters) - The head of a conservat...  politicsNews   \n",
            "1  WASHINGTON (Reuters) - Transgender people will...  politicsNews   \n",
            "2  WASHINGTON (Reuters) - The special counsel inv...  politicsNews   \n",
            "3  WASHINGTON (Reuters) - Trump campaign adviser ...  politicsNews   \n",
            "4  SEATTLE/WASHINGTON (Reuters) - President Donal...  politicsNews   \n",
            "\n",
            "                 date  label  \n",
            "0  December 31, 2017       1  \n",
            "1  December 29, 2017       1  \n",
            "2  December 31, 2017       1  \n",
            "3  December 30, 2017       1  \n",
            "4  December 29, 2017       1  \n"
          ]
        }
      ]
    },
    {
      "cell_type": "code",
      "source": [
        "# Define a function to combine the DataFrames\n",
        "def combine_data(Fake_df, True_df):\n",
        "    combined_df = pd.concat([Fake_df, True_df])\n",
        "    return combined_df\n",
        "\n",
        "# Combine the fake and true DataFrames\n",
        "combined_df = combine_data(Fake_df, True_df)\n",
        "\n",
        "# Print the combined DataFrame\n",
        "print(combined_df.head())"
      ],
      "metadata": {
        "colab": {
          "base_uri": "https://localhost:8080/"
        },
        "id": "04KJI4_2N2ld",
        "outputId": "e7238f2c-2452-4660-af7a-a4e1e842775f"
      },
      "execution_count": 26,
      "outputs": [
        {
          "output_type": "stream",
          "name": "stdout",
          "text": [
            "                                               title  \\\n",
            "0   Donald Trump Sends Out Embarrassing New Year’...   \n",
            "1   Drunk Bragging Trump Staffer Started Russian ...   \n",
            "2   Sheriff David Clarke Becomes An Internet Joke...   \n",
            "3   Trump Is So Obsessed He Even Has Obama’s Name...   \n",
            "4   Pope Francis Just Called Out Donald Trump Dur...   \n",
            "\n",
            "                                                text subject  \\\n",
            "0  Donald Trump just couldn t wish all Americans ...    News   \n",
            "1  House Intelligence Committee Chairman Devin Nu...    News   \n",
            "2  On Friday, it was revealed that former Milwauk...    News   \n",
            "3  On Christmas day, Donald Trump announced that ...    News   \n",
            "4  Pope Francis used his annual Christmas Day mes...    News   \n",
            "\n",
            "                date  label  \n",
            "0  December 31, 2017      0  \n",
            "1  December 31, 2017      0  \n",
            "2  December 30, 2017      0  \n",
            "3  December 29, 2017      0  \n",
            "4  December 25, 2017      0  \n"
          ]
        }
      ]
    },
    {
      "cell_type": "code",
      "source": [
        "# Print the shape of the DataFrame\n",
        "print(combined_df.shape)\n",
        "\n",
        "# Print the first few rows of the DataFrame\n",
        "print(combined_df.head())\n",
        "\n",
        "# Print the last few rows of the DataFrame\n",
        "print(combined_df.tail())\n",
        "\n",
        "# Print the value counts of the label column\n",
        "print(combined_df['label'].value_counts())\n",
        "\n",
        "# Plot a bar chart of the label distribution\n",
        "import matplotlib.pyplot as plt\n",
        "combined_df['label'].value_counts().plot(kind='bar')\n",
        "plt.title('Label Distribution')\n",
        "plt.xlabel('Label')\n",
        "plt.ylabel('Count')\n",
        "plt.show()"
      ],
      "metadata": {
        "colab": {
          "base_uri": "https://localhost:8080/",
          "height": 1000
        },
        "id": "mz4A3iuqO2g-",
        "outputId": "13737e02-0dcd-4d98-ffbf-9b7e465ab0cd"
      },
      "execution_count": 27,
      "outputs": [
        {
          "output_type": "stream",
          "name": "stdout",
          "text": [
            "(44898, 5)\n",
            "                                               title  \\\n",
            "0   Donald Trump Sends Out Embarrassing New Year’...   \n",
            "1   Drunk Bragging Trump Staffer Started Russian ...   \n",
            "2   Sheriff David Clarke Becomes An Internet Joke...   \n",
            "3   Trump Is So Obsessed He Even Has Obama’s Name...   \n",
            "4   Pope Francis Just Called Out Donald Trump Dur...   \n",
            "\n",
            "                                                text subject  \\\n",
            "0  Donald Trump just couldn t wish all Americans ...    News   \n",
            "1  House Intelligence Committee Chairman Devin Nu...    News   \n",
            "2  On Friday, it was revealed that former Milwauk...    News   \n",
            "3  On Christmas day, Donald Trump announced that ...    News   \n",
            "4  Pope Francis used his annual Christmas Day mes...    News   \n",
            "\n",
            "                date  label  \n",
            "0  December 31, 2017      0  \n",
            "1  December 31, 2017      0  \n",
            "2  December 30, 2017      0  \n",
            "3  December 29, 2017      0  \n",
            "4  December 25, 2017      0  \n",
            "                                                   title  \\\n",
            "21412  'Fully committed' NATO backs new U.S. approach...   \n",
            "21413  LexisNexis withdrew two products from Chinese ...   \n",
            "21414  Minsk cultural hub becomes haven from authorities   \n",
            "21415  Vatican upbeat on possibility of Pope Francis ...   \n",
            "21416  Indonesia to buy $1.14 billion worth of Russia...   \n",
            "\n",
            "                                                    text    subject  \\\n",
            "21412  BRUSSELS (Reuters) - NATO allies on Tuesday we...  worldnews   \n",
            "21413  LONDON (Reuters) - LexisNexis, a provider of l...  worldnews   \n",
            "21414  MINSK (Reuters) - In the shadow of disused Sov...  worldnews   \n",
            "21415  MOSCOW (Reuters) - Vatican Secretary of State ...  worldnews   \n",
            "21416  JAKARTA (Reuters) - Indonesia will buy 11 Sukh...  worldnews   \n",
            "\n",
            "                   date  label  \n",
            "21412  August 22, 2017       1  \n",
            "21413  August 22, 2017       1  \n",
            "21414  August 22, 2017       1  \n",
            "21415  August 22, 2017       1  \n",
            "21416  August 22, 2017       1  \n",
            "label\n",
            "0    23481\n",
            "1    21417\n",
            "Name: count, dtype: int64\n"
          ]
        },
        {
          "output_type": "display_data",
          "data": {
            "text/plain": [
              "<Figure size 640x480 with 1 Axes>"
            ],
            "image/png": "[encoded data removed]"
          },
          "metadata": {}
        }
      ]
    },
    {
      "cell_type": "code",
      "source": [
        "# Import necessary libraries\n",
        "import nltk\n",
        "from nltk.tokenize import word_tokenize\n",
        "from nltk.corpus import stopwords\n",
        "from nltk.stem import WordNetLemmatizer\n",
        "\n",
        "# Download the 'punkt' resource\n",
        "nltk.download('punkt')\n",
        "\n",
        "# Define a function to clean the text data\n",
        "def clean_text(text):\n",
        "    # Tokenize the text\n",
        "    tokens = word_tokenize(text)\n",
        "\n",
        "    # Lower case the tokens\n",
        "    tokens = [token.lower() for token in tokens]\n",
        "\n",
        "# Remove stop words\n",
        "    stop_words = set(stopwords.words('english'))\n",
        "    tokens = [token for token in tokens if token not in stop_words]"
      ],
      "metadata": {
        "colab": {
          "base_uri": "https://localhost:8080/"
        },
        "id": "kqng3vY_PIIe",
        "outputId": "079965ec-7691-4dd8-d971-e5a579c43090"
      },
      "execution_count": 30,
      "outputs": [
        {
          "output_type": "stream",
          "name": "stderr",
          "text": [
            "[nltk_data] Downloading package punkt to /root/nltk_data...\n",
            "[nltk_data]   Unzipping tokenizers/punkt.zip.\n"
          ]
        }
      ]
    },
    {
      "cell_type": "code",
      "source": [
        "# Import necessary libraries\n",
        "from sklearn.feature_extraction.text import TfidfVectorizer\n",
        "\n",
        "# Define a function to vectorize the text data\n",
        "def vectorize_text(text):\n",
        "    # Create a TF-IDF vectorizer\n",
        "    vectorizer = TfidfVectorizer()\n",
        "\n",
        "    # Fit the vectorizer to the text data and transform it into vectors\n",
        "    vectors = vectorizer.fit_transform(text)\n",
        "\n",
        "    return vectors\n",
        "\n",
        "# Vectorize the text data\n",
        "vectors = vectorize_text(combined_df['text'])\n",
        "\n",
        "# Print the vectorized text data\n",
        "print(vectors.shape)"
      ],
      "metadata": {
        "colab": {
          "base_uri": "https://localhost:8080/"
        },
        "id": "chZNASg5PQue",
        "outputId": "96dddace-b5f6-49d7-e383-665d752a3d9e"
      },
      "execution_count": 31,
      "outputs": [
        {
          "output_type": "stream",
          "name": "stdout",
          "text": [
            "(44898, 122002)\n"
          ]
        }
      ]
    },
    {
      "cell_type": "code",
      "source": [
        "# Reduce the size of the dataset to 1000 instances\n",
        "combined_df = combined_df.sample(n=1000, random_state=42)"
      ],
      "metadata": {
        "id": "1ZM5kR2XPXeB"
      },
      "execution_count": 32,
      "outputs": []
    }
  ]
}